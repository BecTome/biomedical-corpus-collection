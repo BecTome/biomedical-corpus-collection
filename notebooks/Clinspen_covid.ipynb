{
 "cells": [
  {
   "cell_type": "markdown",
   "metadata": {},
   "source": [
    "# ClinSpEn Covid Data"
   ]
  },
  {
   "cell_type": "code",
   "execution_count": 1,
   "metadata": {},
   "outputs": [
    {
     "name": "stderr",
     "output_type": "stream",
     "text": [
      "/home/abecerr1/Documents/GitHub/biomedical-corpus-collection/.venv/lib/python3.10/site-packages/tqdm/auto.py:21: TqdmWarning: IProgress not found. Please update jupyter and ipywidgets. See https://ipywidgets.readthedocs.io/en/stable/user_install.html\n",
      "  from .autonotebook import tqdm as notebook_tqdm\n",
      "None of PyTorch, TensorFlow >= 2.0, or Flax have been found. Models won't be available and only tokenizers, configuration and file/data utilities can be used.\n",
      "  0%|          | 0/152 [00:00<?, ?it/s]Token indices sequence length is longer than the specified maximum sequence length for this model (758 > 512). Running this sequence through the model will result in indexing errors\n",
      "100%|██████████| 152/152 [00:06<00:00, 24.99it/s]\n",
      "100%|██████████| 50/50 [00:02<00:00, 21.74it/s]\n"
     ]
    }
   ],
   "source": [
    "import pandas as pd\n",
    "import os\n",
    "from tqdm import tqdm\n",
    "import shutil\n",
    "\n",
    "from src.utils import count_tokens, count_sentences\n",
    "\n",
    "PATH_TEST = 'data/clinspen_corpora_complete/clinspen_clinicalcases/clinspen_clinicalcases_test-set'\n",
    "PATH_DEV = 'data/clinspen_corpora_complete/clinspen_clinicalcases/clinspen_clinicalcases_sample-set'\n",
    "\n",
    "PATH_EXPORT_TEST = \"output/\" + PATH_TEST\n",
    "PATH_EXPORT_DEV = \"output/\" + PATH_DEV\n",
    "\n",
    "def extract_info_spanish(path, output_path=None):\n",
    "    ls_lines = []\n",
    "    ls_tokens = []\n",
    "    ls_sentences = []\n",
    "    dirs = [file for file in os.listdir(path) if file.endswith('.es.txt')]\n",
    "\n",
    "    if output_path is not None:\n",
    "        if not os.path.exists(output_path):\n",
    "            os.makedirs(output_path)\n",
    "        else:\n",
    "            shutil.rmtree(output_path)\n",
    "            os.makedirs(output_path)\n",
    "\n",
    "    for file in tqdm(dirs):\n",
    "        shutil.copy(os.path.join(path, file), os.path.join(output_path, file))\n",
    "        with open(os.path.join(path, file), 'r') as f:\n",
    "            text = f.read()\n",
    "            tokens = count_tokens(text)\n",
    "            sentences = count_sentences(text)\n",
    "            # print(f'{file}: {tokens} tokens, {sentences} sentences')\n",
    "            ls_lines.append(text)\n",
    "            ls_tokens.append(tokens)\n",
    "            ls_sentences.append(sentences)\n",
    "\n",
    "    return ls_lines, ls_tokens, ls_sentences\n",
    "\n",
    "ls_lines_test, ls_tokens_test, ls_sentences_test = extract_info_spanish(PATH_TEST, output_path=PATH_EXPORT_TEST)\n",
    "ls_lines_dev, ls_tokens_dev, ls_sentences_dev = extract_info_spanish(PATH_DEV, output_path=PATH_EXPORT_DEV)"
   ]
  },
  {
   "cell_type": "code",
   "execution_count": 8,
   "metadata": {},
   "outputs": [
    {
     "name": "stdout",
     "output_type": "stream",
     "text": [
      "Test set: 84584 tokens, 2959 sentences\n",
      "Dev set: 31240 tokens, 1105 sentences\n",
      "Total: 115824 tokens, 4064 sentences\n"
     ]
    }
   ],
   "source": [
    "tokens_test = sum(ls_tokens_test)\n",
    "sentences_test = sum(ls_sentences_test)\n",
    "\n",
    "tokens_dev = sum(ls_tokens_dev)\n",
    "sentences_dev = sum(ls_sentences_dev)\n",
    "\n",
    "print(f'Test set: {tokens_test} tokens, {sentences_test} sentences')\n",
    "print(f'Dev set: {tokens_dev} tokens, {sentences_dev} sentences')\n",
    "\n",
    "print(f'Total: {tokens_test + tokens_dev} tokens, {sentences_test + sentences_dev} sentences')"
   ]
  }
 ],
 "metadata": {
  "kernelspec": {
   "display_name": ".venv",
   "language": "python",
   "name": "python3"
  },
  "language_info": {
   "codemirror_mode": {
    "name": "ipython",
    "version": 3
   },
   "file_extension": ".py",
   "mimetype": "text/x-python",
   "name": "python",
   "nbconvert_exporter": "python",
   "pygments_lexer": "ipython3",
   "version": "3.10.12"
  }
 },
 "nbformat": 4,
 "nbformat_minor": 2
}
